{
  "nbformat": 4,
  "nbformat_minor": 0,
  "metadata": {
    "colab": {
      "provenance": []
    },
    "kernelspec": {
      "name": "python3",
      "display_name": "Python 3"
    },
    "language_info": {
      "name": "python"
    }
  },
  "cells": [
    {
      "cell_type": "code",
      "execution_count": null,
      "metadata": {
        "id": "la3Lq7LXFaJz"
      },
      "outputs": [],
      "source": [
        "import numpy as np\n",
        "import pandas as pd\n",
        "from sklearn.model_selection import train_test_split\n",
        "from sklearn.ensemble import RandomForestRegressor\n",
        "from sklearn.preprocessing import OneHotEncoder, StandardScaler\n",
        "import joblib"
      ]
    },
    {
      "cell_type": "code",
      "source": [
        "# Load the dataset\n",
        "df = pd.read_csv(\"/content/drive/MyDrive/dataset/salaray_data.csv\")"
      ],
      "metadata": {
        "id": "63o94-N1FhIT"
      },
      "execution_count": null,
      "outputs": []
    },
    {
      "cell_type": "code",
      "source": [
        "# Clean data by removing NaN values and filtering outliers\n",
        "df.replace(['', 'NA', 'NaN', 'nan'], np.nan, inplace=True)\n",
        "df.dropna(inplace=True)\n",
        "df['Years of Experience'] = df['Years of Experience'].replace(0, np.nan)\n",
        "df = df[df['Salary'] > 10000].dropna(subset=['Age', 'Years of Experience', 'Salary'])\n"
      ],
      "metadata": {
        "id": "ltv-LO9TFhEz"
      },
      "execution_count": null,
      "outputs": []
    },
    {
      "cell_type": "code",
      "source": [
        "# Filter columns to only include necessary features and drop \"Job Title\"\n",
        "df = df[['Age', 'Years of Experience', 'Education Level', 'Gender', 'Salary']]\n"
      ],
      "metadata": {
        "id": "Qzzr6omYFhCC"
      },
      "execution_count": null,
      "outputs": []
    },
    {
      "cell_type": "code",
      "source": [
        "# Encode 'Gender' and 'Education Level' columns\n",
        "ohe = OneHotEncoder(drop='first', sparse_output=False)\n",
        "encoded_columns = ohe.fit_transform(df[['Gender', 'Education Level']])\n",
        "encoded_df = pd.DataFrame(encoded_columns, columns=ohe.get_feature_names_out(['Gender', 'Education Level']))\n",
        "df = pd.concat([df[['Age', 'Years of Experience', 'Salary']].reset_index(drop=True), encoded_df.reset_index(drop=True)], axis=1)\n"
      ],
      "metadata": {
        "id": "vrM7GfCrFlnj"
      },
      "execution_count": null,
      "outputs": []
    },
    {
      "cell_type": "code",
      "source": [
        "# Separate features (X) and target (y)\n",
        "X = df.drop(columns='Salary')\n",
        "y = df['Salary']"
      ],
      "metadata": {
        "id": "r5t4vM-GFnI2"
      },
      "execution_count": null,
      "outputs": []
    },
    {
      "cell_type": "code",
      "source": [
        "# Train-test split\n",
        "X_train, X_test, y_train, y_test = train_test_split(X, y, test_size=0.33, random_state=42)\n"
      ],
      "metadata": {
        "id": "aa8u_c3VFpOv"
      },
      "execution_count": null,
      "outputs": []
    },
    {
      "cell_type": "code",
      "source": [
        "# Scaling and model training\n",
        "scaler = StandardScaler()\n",
        "X_train_scaled = scaler.fit_transform(X_train)\n",
        "X_test_scaled = scaler.transform(X_test)"
      ],
      "metadata": {
        "id": "IFMCN7ZBFql_"
      },
      "execution_count": null,
      "outputs": []
    },
    {
      "cell_type": "code",
      "source": [
        "# Train the RandomForestRegressor model\n",
        "rf = RandomForestRegressor()\n",
        "rf.fit(X_train_scaled, y_train)"
      ],
      "metadata": {
        "id": "Vn5V4mrLFr8u"
      },
      "execution_count": null,
      "outputs": []
    },
    {
      "cell_type": "code",
      "source": [
        "# Save the model, scaler, and encoder\n",
        "joblib.dump(rf, 'salary_predictor_rf.pkl')\n",
        "joblib.dump(scaler, 'scaler.pkl')\n",
        "joblib.dump(ohe, 'encoder.pkl')"
      ],
      "metadata": {
        "id": "AYqrOWjVFtXz"
      },
      "execution_count": null,
      "outputs": []
    },
    {
      "cell_type": "code",
      "source": [
        "# Expected feature order for reference in Flask app\n",
        "expected_features = X.columns.tolist()\n",
        "joblib.dump(expected_features, 'expected_features.pkl')"
      ],
      "metadata": {
        "id": "drpZMZyUFvCS"
      },
      "execution_count": null,
      "outputs": []
    }
  ]
}